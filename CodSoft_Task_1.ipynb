{
  "cells": [
    {
      "cell_type": "markdown",
      "metadata": {
        "id": "view-in-github",
        "colab_type": "text"
      },
      "source": [
        "<a href=\"https://colab.research.google.com/github/Sivani2005/CodSoft/blob/main/CodSoft_Task_1.ipynb\" target=\"_parent\"><img src=\"https://colab.research.google.com/assets/colab-badge.svg\" alt=\"Open In Colab\"/></a>"
      ]
    },
    {
      "cell_type": "code",
      "execution_count": null,
      "metadata": {
        "colab": {
          "base_uri": "https://localhost:8080/"
        },
        "id": "co3cZqHVBoh9",
        "outputId": "c0e88ed5-5cee-416b-a4cb-67e1b6647c3e"
      },
      "outputs": [
        {
          "output_type": "stream",
          "name": "stdout",
          "text": [
            "User: hi\n",
            "Chatbot: Hello!! I am Byte. How may I help you ?\n",
            "User: how are you doing\n",
            "Chatbot: I am doing good. What about you? \n",
            "User: Todays weather\n",
            "Chatbot: Today in Rajahmundry, Andhra Pradesh, India is partly cloudy with a high of 90°F and a low of 69°F\n",
            "User: bye\n",
            "Chatbot: Goodbye! Have a nice day!\n"
          ]
        }
      ],
      "source": [
        "import re\n",
        "\n",
        "# Rules defining\n",
        "rules = {\n",
        "    \"(hi|hello|hey)\": \"Hello!! I am Byte. How may I help you ?\",\n",
        "    \"(what is your name|who are you)\": \"My name is Byte. I am a chatbot that helps you in answering your questions.\",\n",
        "    \"(how are you doing)\": \"I am doing good. What about you? \",\n",
        "    \"(Todays weather)\": \"Today in Rajahmundry, Andhra Pradesh, India is partly cloudy with a high of 90°F and a low of 69°F\",\n",
        "    \"(what can you do)\": \"I will answer your questions and fulfill your requirements in a satisfactory way .\",\n",
        "    \"(what is the time)\": \"The current time in Rajahmundry, Andhra Pradesh, India is 2:26 pm IST on Sunday, January 14, 2024.\",\n",
        "    \"(how do I use you)\": \"Type your requirement and I will do my best to respond.\",\n",
        "    \"(Suggest me a movie)\": \"Sure! Which genre do you prefer?\",\n",
        "    \"(Tell me a joke)\": \"What's the smartest insect? A spelling bee..Hahaha!!! I hope you had a laugh.\",\n",
        "    \"(have a good day)\": \"Wish you the same.\",\n",
        "    \"(goodbye|bye)\": \"Goodbye! Have a nice day!\",\n",
        "\n",
        "\n",
        "}\n",
        "\n",
        "# Define a function to match user queries to rules\n",
        "def match_rule(query):\n",
        "    for pattern, response in rules.items():\n",
        "        if re.match(pattern, query):\n",
        "            return response\n",
        "    return None\n",
        "\n",
        "# Define a function to generate a response to a user query\n",
        "def generate_response(query):\n",
        "    response = match_rule(query)\n",
        "    if response is None:\n",
        "        response = \"Sorry I did not get it. Can you be more precise\"\n",
        "    return response\n",
        "\n",
        "# Start the chatbot loop\n",
        "while True:\n",
        "    user_query = input(\"User: \")\n",
        "    response = generate_response(user_query)\n",
        "    print(f\"Chatbot: {response}\")\n"
      ]
    }
  ],
  "metadata": {
    "colab": {
      "provenance": [],
      "authorship_tag": "ABX9TyOvUNYQJm12r4xulwSFfBAc",
      "include_colab_link": true
    },
    "kernelspec": {
      "display_name": "Python 3",
      "name": "python3"
    },
    "language_info": {
      "name": "python"
    }
  },
  "nbformat": 4,
  "nbformat_minor": 0
}

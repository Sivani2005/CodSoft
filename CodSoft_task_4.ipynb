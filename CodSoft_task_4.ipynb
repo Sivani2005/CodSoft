{
  "nbformat": 4,
  "nbformat_minor": 0,
  "metadata": {
    "colab": {
      "provenance": [],
      "authorship_tag": "ABX9TyPamGXm+/2xAKx5CAP50Mrc",
      "include_colab_link": true
    },
    "kernelspec": {
      "name": "python3",
      "display_name": "Python 3"
    },
    "language_info": {
      "name": "python"
    }
  },
  "cells": [
    {
      "cell_type": "markdown",
      "metadata": {
        "id": "view-in-github",
        "colab_type": "text"
      },
      "source": [
        "<a href=\"https://colab.research.google.com/github/Sivani2005/CodSoft/blob/main/CodSoft_task_4.ipynb\" target=\"_parent\"><img src=\"https://colab.research.google.com/assets/colab-badge.svg\" alt=\"Open In Colab\"/></a>"
      ]
    },
    {
      "cell_type": "code",
      "source": [
        "!pip install scikit-surprise\n"
      ],
      "metadata": {
        "colab": {
          "base_uri": "https://localhost:8080/"
        },
        "id": "BNdlnoFThxZ5",
        "outputId": "88f79951-80fb-47c2-8f76-538a1e226690"
      },
      "execution_count": 2,
      "outputs": [
        {
          "output_type": "stream",
          "name": "stdout",
          "text": [
            "Collecting scikit-surprise\n",
            "  Downloading scikit-surprise-1.1.3.tar.gz (771 kB)\n",
            "\u001b[?25l     \u001b[90m━━━━━━━━━━━━━━━━━━━━━━━━━━━━━━━━━━━━━━━━\u001b[0m \u001b[32m0.0/772.0 kB\u001b[0m \u001b[31m?\u001b[0m eta \u001b[36m-:--:--\u001b[0m\r\u001b[2K     \u001b[91m━━━━━━━━━━━━━━\u001b[0m\u001b[90m╺\u001b[0m\u001b[90m━━━━━━━━━━━━━━━━━━━━━━━━━\u001b[0m \u001b[32m276.5/772.0 kB\u001b[0m \u001b[31m8.1 MB/s\u001b[0m eta \u001b[36m0:00:01\u001b[0m\r\u001b[2K     \u001b[91m━━━━━━━━━━━━━━━━━━━━━━━━━━━━━━━━━━━━━━━\u001b[0m\u001b[91m╸\u001b[0m \u001b[32m768.0/772.0 kB\u001b[0m \u001b[31m11.4 MB/s\u001b[0m eta \u001b[36m0:00:01\u001b[0m\r\u001b[2K     \u001b[90m━━━━━━━━━━━━━━━━━━━━━━━━━━━━━━━━━━━━━━━━\u001b[0m \u001b[32m772.0/772.0 kB\u001b[0m \u001b[31m9.6 MB/s\u001b[0m eta \u001b[36m0:00:00\u001b[0m\n",
            "\u001b[?25h  Preparing metadata (setup.py) ... \u001b[?25l\u001b[?25hdone\n",
            "Requirement already satisfied: joblib>=1.0.0 in /usr/local/lib/python3.10/dist-packages (from scikit-surprise) (1.3.2)\n",
            "Requirement already satisfied: numpy>=1.17.3 in /usr/local/lib/python3.10/dist-packages (from scikit-surprise) (1.25.2)\n",
            "Requirement already satisfied: scipy>=1.3.2 in /usr/local/lib/python3.10/dist-packages (from scikit-surprise) (1.11.4)\n",
            "Building wheels for collected packages: scikit-surprise\n",
            "  Building wheel for scikit-surprise (setup.py) ... \u001b[?25l\u001b[?25hdone\n",
            "  Created wheel for scikit-surprise: filename=scikit_surprise-1.1.3-cp310-cp310-linux_x86_64.whl size=3163007 sha256=e9e080f3224765259a23442d51534c95a4c7ff852e34afcc417089c4501711f8\n",
            "  Stored in directory: /root/.cache/pip/wheels/a5/ca/a8/4e28def53797fdc4363ca4af740db15a9c2f1595ebc51fb445\n",
            "Successfully built scikit-surprise\n",
            "Installing collected packages: scikit-surprise\n",
            "Successfully installed scikit-surprise-1.1.3\n"
          ]
        }
      ]
    },
    {
      "cell_type": "code",
      "source": [
        "import pandas as pd\n",
        "from surprise import Dataset, Reader, SVD\n",
        "from surprise.model_selection import train_test_split\n",
        "\n",
        "data = {\n",
        "    'user':['Shivani','Janani','Sarthak','Anjani'],\n",
        "    'item':['Pursuit of Happiness', 'Salaar','Silence','Sakhi',],\n",
        "    'rating':[5,5,4,5],\n",
        "\n",
        "}\n",
        "\n",
        "reader = Reader(rating_scale=(1,10))\n",
        "df = pd.DataFrame(data)\n",
        "\n",
        "dataset = Dataset.load_from_df(df[['user', 'item', 'rating']],reader)\n",
        "\n",
        "trainset, testset = train_test_split(dataset , test_size=0.2, random_state=42)\n",
        "\n",
        "\n",
        "model = SVD()\n",
        "model.fit(trainset)\n",
        "\n",
        "def get_top_n_recommendation(model, user_id, n=3):\n",
        "    items_rated_by_user = df[df['user']== user_id]['item'].tolist()\n",
        "    items_to_predict = [item for item in df['item'].unique() if item not in items_rated_by_user]\n",
        "\n",
        "    prediction = [(item, model.predict(user_id,item).est) for item in items_to_predict]\n",
        "    prediction.sort(key=lambda x: x[1],reverse = True)\n",
        "\n",
        "    return prediction[:n]\n",
        "\n",
        "\n",
        "def get_user_preference():\n",
        "    preference = input(\"Enter 'movie' or 'song' or 'podcast' :\")\n",
        "    return preference.lower()\n",
        "\n",
        "user_id = input(\"Enter your username : \")\n",
        "user_preference = get_user_preference()\n",
        "\n",
        "if user_preference == 'movie':\n",
        "    top_n_recommendations = get_top_n_recommendations(model,user_id,n=3)\n",
        "    print(f\"\\nTop 3 movie recommendations for user {user_id}:\")\n",
        "    for item, est_rating in top_n_recommendations :\n",
        "        print(f\"{item} with estimated rating: {est_rating}\")\n",
        "\n",
        "elif user_preference == 'song':\n",
        "    print(f\"\\nTop 3 song recommendations for user {user_id}:\")\n",
        "    print(\" Perfect by Ed Sheeran\")\n",
        "    print(\"Chaleya from Jawan\")\n",
        "    print(\"Oy..Oy.. from Oy\")\n",
        "    print(\"Apna Bana Le from Bhediya\")\n",
        "    print(\"Urike Urike from Hit 2\")\n",
        "    print(\"Hua Main from Animal\")\n",
        "    print(\"Satranga from Animal\")\n",
        "    print(\"Hrudayama from Major\")\n",
        "    print(\"Samayama from Hi Nanna\")\n",
        "    print(\"Kurchi Madathapetti from Guntur Karam\")\n",
        "    print(\"Galliyan from Ek Villain\")\n",
        "    print(\"Kesariya from Brahmastra\")\n",
        "    print(\"Agar Tum Saath ho from Tamasha\")\n",
        "    print(\" Kannuladha from 3\")\n",
        "\n",
        "elif user_preference == 'podcast':\n",
        "  print(\"Bhaskar Bose\")\n",
        "  print(\"I hear you\")\n",
        "  print(\"Khooni\")\n",
        "  print(\"The Horror Time podcast\")\n",
        "  print(\"The Desi crime podcast\")\n",
        "  print(\"Rotten Mango\")\n",
        "  print(\"The Ranveer Show\")\n",
        "\n",
        "else:\n",
        "    print(\"Invalid Preference\")"
      ],
      "metadata": {
        "colab": {
          "base_uri": "https://localhost:8080/"
        },
        "id": "83IvRbPrivED",
        "outputId": "9a028631-ab9a-4444-9a5d-2de304dbd349"
      },
      "execution_count": 14,
      "outputs": [
        {
          "output_type": "stream",
          "name": "stdout",
          "text": [
            "Enter your username : Shivani\n",
            "Enter 'movie' or 'song' or 'podcast' :podcast\n",
            "Bhaskar Bose\n",
            "I hear you\n",
            "Khooni\n",
            "The Horror Time podcast\n",
            "The Desi crime podcast\n"
          ]
        }
      ]
    }
  ]
}